{
  "nbformat": 4,
  "nbformat_minor": 0,
  "metadata": {
    "colab": {
      "provenance": [],
      "gpuType": "T4"
    },
    "kernelspec": {
      "name": "python3",
      "display_name": "Python 3"
    },
    "language_info": {
      "name": "python"
    },
    "accelerator": "GPU"
  },
  "cells": [
    {
      "cell_type": "markdown",
      "source": [
        "# CNN on CIFAR-10 Dataset.\n",
        "## 1.1 Loading dataset"
      ],
      "metadata": {
        "id": "KVEBjnS2ycCh"
      }
    },
    {
      "cell_type": "code",
      "execution_count": 36,
      "metadata": {
        "colab": {
          "base_uri": "https://localhost:8080/"
        },
        "id": "zr2HUAwevlc9",
        "outputId": "de21657d-3b46-411f-814f-c9805d3b0ae4"
      },
      "outputs": [
        {
          "output_type": "stream",
          "name": "stdout",
          "text": [
            "PyTorch version: 2.4.0+cu121\n",
            "torchvision version: 0.19.0+cu121\n"
          ]
        }
      ],
      "source": [
        "# Import PyTorch\n",
        "import torch\n",
        "from torch import nn\n",
        "\n",
        "# Import torchvision\n",
        "import torchvision\n",
        "from torchvision import datasets\n",
        "from torchvision.transforms import ToTensor\n",
        "\n",
        "# Import matplotlib for visualization\n",
        "import matplotlib.pyplot as plt\n",
        "\n",
        "print(f\"PyTorch version: {torch.__version__}\\ntorchvision version: {torchvision.__version__}\")"
      ]
    },
    {
      "cell_type": "code",
      "source": [
        "train_data = datasets.CIFAR10(\n",
        "    root=\"data\",\n",
        "    train=True,\n",
        "    download=True,\n",
        "    transform=ToTensor(),\n",
        "    target_transform=None\n",
        ")\n",
        "\n",
        "test_data = datasets.CIFAR10(\n",
        "    root=\"data\",\n",
        "    train=False,\n",
        "    download=True,\n",
        "    transform=ToTensor(),\n",
        "    target_transform=None\n",
        ")"
      ],
      "metadata": {
        "colab": {
          "base_uri": "https://localhost:8080/"
        },
        "id": "z2a4qXrHv4Ww",
        "outputId": "ca4b5437-d6a0-4b09-e938-7660d082d629"
      },
      "execution_count": 37,
      "outputs": [
        {
          "output_type": "stream",
          "name": "stdout",
          "text": [
            "Files already downloaded and verified\n",
            "Files already downloaded and verified\n"
          ]
        }
      ]
    },
    {
      "cell_type": "code",
      "source": [
        "image, label = train_data[0]\n",
        "print(f\"Image shape: {image.shape}\")\n",
        "print(f\"Label: {label}\")"
      ],
      "metadata": {
        "colab": {
          "base_uri": "https://localhost:8080/"
        },
        "id": "G-WIXMx7wuIz",
        "outputId": "818be779-71db-4b75-ce35-33fddd8725e5"
      },
      "execution_count": 38,
      "outputs": [
        {
          "output_type": "stream",
          "name": "stdout",
          "text": [
            "Image shape: torch.Size([3, 32, 32])\n",
            "Label: 6\n"
          ]
        }
      ]
    },
    {
      "cell_type": "code",
      "source": [
        "class_names = train_data.classes\n",
        "print(class_names)"
      ],
      "metadata": {
        "colab": {
          "base_uri": "https://localhost:8080/"
        },
        "id": "7Q18bnk0w7t6",
        "outputId": "d1a1b98e-edbf-416f-9498-fe7034b06a54"
      },
      "execution_count": 39,
      "outputs": [
        {
          "output_type": "stream",
          "name": "stdout",
          "text": [
            "['airplane', 'automobile', 'bird', 'cat', 'deer', 'dog', 'frog', 'horse', 'ship', 'truck']\n"
          ]
        }
      ]
    },
    {
      "cell_type": "markdown",
      "source": [
        "## 1.2 Visualise data\n"
      ],
      "metadata": {
        "id": "2c27k05lyR1X"
      }
    },
    {
      "cell_type": "code",
      "source": [
        "plt.imshow(image.permute(1, 2, 0))\n",
        "plt.title(f\"Label: {class_names[label]}\")\n",
        "plt.axis(False)\n",
        "plt.show()\n"
      ],
      "metadata": {
        "colab": {
          "base_uri": "https://localhost:8080/",
          "height": 428
        },
        "id": "ROBArCb-y9Gh",
        "outputId": "9948977f-41ce-46c3-b1ff-d8a079e20d2f"
      },
      "execution_count": 40,
      "outputs": [
        {
          "output_type": "display_data",
          "data": {
            "text/plain": [
              "<Figure size 640x480 with 1 Axes>"
            ],
            "image/png": "[encoded data removed]"
          },
          "metadata": {}
        }
      ]
    },
    {
      "cell_type": "code",
      "source": [
        "fig = plt.figure(figsize=(9, 9))\n",
        "rows, cols = 4, 4\n",
        "for i in range(1, rows * cols + 1):\n",
        "    random_idx = torch.randint(0, len(train_data), size=[1]).item()\n",
        "    img, label = train_data[random_idx]\n",
        "    fig.add_subplot(rows, cols, i)\n",
        "    plt.imshow(img.permute(1, 2, 0))\n",
        "    plt.title(class_names[label])\n",
        "    plt.axis(False);"
      ],
      "metadata": {
        "colab": {
          "base_uri": "https://localhost:8080/",
          "height": 752
        },
        "id": "yq45zqVWzHKa",
        "outputId": "a7709ac5-a2f1-418a-accc-afc14c8d6e3d"
      },
      "execution_count": 41,
      "outputs": [
        {
          "output_type": "display_data",
          "data": {
            "text/plain": [
              "<Figure size 900x900 with 16 Axes>"
            ],
            "image/png": "[encoded data removed]"
          },
          "metadata": {}
        }
      ]
    },
    {
      "cell_type": "markdown",
      "source": [
        "## 2.1 Preparing Dataloader."
      ],
      "metadata": {
        "id": "IJyYetfC0NU3"
      }
    },
    {
      "cell_type": "code",
      "source": [
        "from torch.utils.data import DataLoader\n",
        "\n",
        "train_dataloader = DataLoader(train_data, batch_size=32, shuffle=True)\n",
        "test_dataloader = DataLoader(test_data, batch_size=32, shuffle=False)\n",
        "\n",
        "print(f\"Length of  train dataloader: {len(train_dataloader)} batches of 32\")\n",
        "print(f\"Length of  test dataloader: {len(test_dataloader)} batches of 32\")"
      ],
      "metadata": {
        "colab": {
          "base_uri": "https://localhost:8080/"
        },
        "id": "Ym6x0Ho60Yur",
        "outputId": "172de92d-9c4e-4193-bd35-7c4a9e038f7b"
      },
      "execution_count": 42,
      "outputs": [
        {
          "output_type": "stream",
          "name": "stdout",
          "text": [
            "Length of  train dataloader: 1563 batches of 32\n",
            "Length of  test dataloader: 313 batches of 32\n"
          ]
        }
      ]
    },
    {
      "cell_type": "markdown",
      "source": [
        "## 2.2 Preparing baseline model."
      ],
      "metadata": {
        "id": "YzPiGjI80mJk"
      }
    },
    {
      "cell_type": "code",
      "source": [
        "device = \"cuda\" if torch.cuda.is_available() else \"cpu\"\n",
        "device"
      ],
      "metadata": {
        "colab": {
          "base_uri": "https://localhost:8080/",
          "height": 35
        },
        "id": "b1eECyLU2pjw",
        "outputId": "b6b049c9-ddb7-4856-955c-2ac06dd1cd12"
      },
      "execution_count": 43,
      "outputs": [
        {
          "output_type": "execute_result",
          "data": {
            "text/plain": [
              "'cuda'"
            ],
            "application/vnd.google.colaboratory.intrinsic+json": {
              "type": "string"
            }
          },
          "metadata": {},
          "execution_count": 43
        }
      ]
    },
    {
      "cell_type": "code",
      "source": [
        "class NeuralNetwork(nn.Module):\n",
        "    def __init__(self):\n",
        "        super().__init__()\n",
        "        self.flatten = nn.Flatten()\n",
        "        self.linear_relu_stack = nn.Sequential(\n",
        "            nn.Linear(3*32*32, 512),\n",
        "            nn.ReLU(),\n",
        "            nn.Linear(512, 512),\n",
        "            nn.ReLU(),\n",
        "            nn.Linear(512, len(class_names)),\n",
        "        )\n",
        "\n",
        "    def forward(self, x):\n",
        "        x = self.flatten(x)\n",
        "        logits = self.linear_relu_stack(x)\n",
        "        return logits\n",
        "\n",
        "model_0 = NeuralNetwork().to(device)\n",
        "model_0\n"
      ],
      "metadata": {
        "colab": {
          "base_uri": "https://localhost:8080/"
        },
        "id": "-eY0agwemhH0",
        "outputId": "3bc6bc47-25c9-4cd9-a330-d1fc5a905878"
      },
      "execution_count": 44,
      "outputs": [
        {
          "output_type": "execute_result",
          "data": {
            "text/plain": [
              "NeuralNetwork(\n",
              "  (flatten): Flatten(start_dim=1, end_dim=-1)\n",
              "  (linear_relu_stack): Sequential(\n",
              "    (0): Linear(in_features=3072, out_features=512, bias=True)\n",
              "    (1): ReLU()\n",
              "    (2): Linear(in_features=512, out_features=512, bias=True)\n",
              "    (3): ReLU()\n",
              "    (4): Linear(in_features=512, out_features=10, bias=True)\n",
              "  )\n",
              ")"
            ]
          },
          "metadata": {},
          "execution_count": 44
        }
      ]
    },
    {
      "cell_type": "code",
      "source": [
        "# Initialize the loss function\n",
        "loss_fn = nn.CrossEntropyLoss()\n",
        "\n",
        "# Initialize the optimizer\n",
        "learning_rate = 0.1\n",
        "optimizer = torch.optim.SGD(model_0.parameters(), lr=learning_rate)"
      ],
      "metadata": {
        "id": "bpYWh6AInZVO"
      },
      "execution_count": 45,
      "outputs": []
    },
    {
      "cell_type": "code",
      "source": [
        "def train_loop(dataloader, model, loss_fn, optimizer, device = device):\n",
        "    size = len(dataloader.dataset)\n",
        "    # Set the model to training mode - important for batch normalization and dropout layers\n",
        "    # Unnecessary in this situation but added for best practices\n",
        "    model.train()\n",
        "    for batch, (X, y) in enumerate(dataloader):\n",
        "        # Send to device\n",
        "        X, y = X.to(device), y.to(device)\n",
        "\n",
        "        # Compute prediction and loss\n",
        "        pred = model(X)\n",
        "        loss = loss_fn(pred, y)\n",
        "\n",
        "        # Backpropagation\n",
        "        loss.backward()\n",
        "        optimizer.step()\n",
        "        optimizer.zero_grad()\n",
        "\n",
        "        if batch % 100 == 0:\n",
        "            loss, current = loss.item(), batch * 32 + len(X)\n",
        "            print(f\"loss: {loss:>7f}  [{current:>5d}/{size:>5d}]\")\n",
        "\n",
        "def test_loop(dataloader, model, loss_fn, device = device):\n",
        "    # Set the model to evaluation mode - important for batch normalization and dropout layers\n",
        "    # Unnecessary in this situation but added for best practices\n",
        "    model.eval()\n",
        "    size = len(dataloader.dataset)\n",
        "    num_batches = len(dataloader)\n",
        "    test_loss, correct = 0, 0\n",
        "\n",
        "    # Evaluating the model with torch.no_grad() ensures that no gradients are computed during test mode\n",
        "    # also serves to reduce unnecessary gradient computations and memory usage for tensors with requires_grad=True\n",
        "    with torch.no_grad():\n",
        "        for X, y in dataloader:\n",
        "            X, y = X.to(device), y.to(device)\n",
        "            pred = model(X)\n",
        "            test_loss += loss_fn(pred, y).item()\n",
        "            correct += (pred.argmax(1) == y).type(torch.float).sum().item()\n",
        "\n",
        "    test_loss /= num_batches\n",
        "    correct /= size\n",
        "    print(f\"Test Error: \\n Accuracy: {(100*correct):>0.1f}%, Avg loss: {test_loss:>8f} \\n\")\n"
      ],
      "metadata": {
        "id": "WDGut5CznwJW"
      },
      "execution_count": 46,
      "outputs": []
    },
    {
      "cell_type": "code",
      "source": [
        "epochs = 5\n",
        "for t in range(epochs):\n",
        "    print(f\"Epoch {t+1}\\n-------------------------------\")\n",
        "    train_loop(train_dataloader, model_0, loss_fn, optimizer)\n",
        "    test_loop(test_dataloader, model_0, loss_fn)\n",
        "print(\"Done!\")"
      ],
      "metadata": {
        "colab": {
          "base_uri": "https://localhost:8080/"
        },
        "id": "mrNKiwHHopCP",
        "outputId": "62150ffe-2de2-4d04-8a35-3e30dda6c36e"
      },
      "execution_count": 47,
      "outputs": [
        {
          "output_type": "stream",
          "name": "stdout",
          "text": [
            "Epoch 1\n",
            "-------------------------------\n",
            "loss: 2.303795  [   32/50000]\n",
            "loss: 2.087607  [ 3232/50000]\n",
            "loss: 1.969432  [ 6432/50000]\n",
            "loss: 1.848646  [ 9632/50000]\n",
            "loss: 2.339229  [12832/50000]\n",
            "loss: 1.746883  [16032/50000]\n",
            "loss: 1.841221  [19232/50000]\n",
            "loss: 1.759842  [22432/50000]\n",
            "loss: 1.742650  [25632/50000]\n",
            "loss: 2.023501  [28832/50000]\n",
            "loss: 1.942709  [32032/50000]\n",
            "loss: 1.815819  [35232/50000]\n",
            "loss: 1.966051  [38432/50000]\n",
            "loss: 1.993686  [41632/50000]\n",
            "loss: 1.752297  [44832/50000]\n",
            "loss: 1.867573  [48032/50000]\n",
            "Test Error: \n",
            " Accuracy: 35.5%, Avg loss: 1.811119 \n",
            "\n",
            "Epoch 2\n",
            "-------------------------------\n",
            "loss: 1.504079  [   32/50000]\n",
            "loss: 1.845032  [ 3232/50000]\n",
            "loss: 1.825686  [ 6432/50000]\n",
            "loss: 1.503426  [ 9632/50000]\n",
            "loss: 1.831388  [12832/50000]\n",
            "loss: 1.699176  [16032/50000]\n",
            "loss: 1.701208  [19232/50000]\n",
            "loss: 1.690387  [22432/50000]\n",
            "loss: 1.415644  [25632/50000]\n",
            "loss: 1.781639  [28832/50000]\n",
            "loss: 1.778555  [32032/50000]\n",
            "loss: 1.677190  [35232/50000]\n",
            "loss: 1.768976  [38432/50000]\n",
            "loss: 1.715403  [41632/50000]\n",
            "loss: 1.643240  [44832/50000]\n",
            "loss: 1.587167  [48032/50000]\n",
            "Test Error: \n",
            " Accuracy: 40.5%, Avg loss: 1.650932 \n",
            "\n",
            "Epoch 3\n",
            "-------------------------------\n",
            "loss: 1.665585  [   32/50000]\n",
            "loss: 1.502008  [ 3232/50000]\n",
            "loss: 1.624315  [ 6432/50000]\n",
            "loss: 1.748151  [ 9632/50000]\n",
            "loss: 1.430969  [12832/50000]\n",
            "loss: 1.632233  [16032/50000]\n",
            "loss: 1.562759  [19232/50000]\n",
            "loss: 1.871313  [22432/50000]\n",
            "loss: 1.841638  [25632/50000]\n",
            "loss: 1.803858  [28832/50000]\n",
            "loss: 1.714207  [32032/50000]\n",
            "loss: 2.095649  [35232/50000]\n",
            "loss: 1.498237  [38432/50000]\n",
            "loss: 1.652786  [41632/50000]\n",
            "loss: 1.365071  [44832/50000]\n",
            "loss: 1.915256  [48032/50000]\n",
            "Test Error: \n",
            " Accuracy: 42.2%, Avg loss: 1.593122 \n",
            "\n",
            "Epoch 4\n",
            "-------------------------------\n",
            "loss: 1.474261  [   32/50000]\n",
            "loss: 1.324879  [ 3232/50000]\n",
            "loss: 1.444059  [ 6432/50000]\n",
            "loss: 1.457662  [ 9632/50000]\n",
            "loss: 1.648492  [12832/50000]\n",
            "loss: 1.698985  [16032/50000]\n",
            "loss: 2.025310  [19232/50000]\n",
            "loss: 1.375724  [22432/50000]\n",
            "loss: 1.470524  [25632/50000]\n",
            "loss: 1.445114  [28832/50000]\n",
            "loss: 1.550466  [32032/50000]\n",
            "loss: 1.444125  [35232/50000]\n",
            "loss: 1.356304  [38432/50000]\n",
            "loss: 1.528615  [41632/50000]\n",
            "loss: 1.518814  [44832/50000]\n",
            "loss: 1.640628  [48032/50000]\n",
            "Test Error: \n",
            " Accuracy: 40.9%, Avg loss: 1.638441 \n",
            "\n",
            "Epoch 5\n",
            "-------------------------------\n",
            "loss: 1.293755  [   32/50000]\n",
            "loss: 1.398204  [ 3232/50000]\n",
            "loss: 1.271348  [ 6432/50000]\n",
            "loss: 1.098972  [ 9632/50000]\n",
            "loss: 1.374921  [12832/50000]\n",
            "loss: 1.956089  [16032/50000]\n",
            "loss: 1.718343  [19232/50000]\n",
            "loss: 1.512166  [22432/50000]\n",
            "loss: 1.446443  [25632/50000]\n",
            "loss: 1.644106  [28832/50000]\n",
            "loss: 1.570224  [32032/50000]\n",
            "loss: 1.428915  [35232/50000]\n",
            "loss: 1.647258  [38432/50000]\n",
            "loss: 1.734043  [41632/50000]\n",
            "loss: 1.792753  [44832/50000]\n",
            "loss: 1.542983  [48032/50000]\n",
            "Test Error: \n",
            " Accuracy: 45.5%, Avg loss: 1.539939 \n",
            "\n",
            "Done!\n"
          ]
        }
      ]
    },
    {
      "cell_type": "code",
      "source": [
        "def eval_model(dataloader, model, loss_fn, device = device):\n",
        "  model.eval()\n",
        "  size = len(dataloader.dataset)\n",
        "  num_batches = len(dataloader)\n",
        "  test_loss, correct = 0, 0\n",
        "\n",
        "  with torch.no_grad():\n",
        "      for X, y in dataloader:\n",
        "          X, y = X.to(device), y.to(device)\n",
        "          pred = model(X)\n",
        "          test_loss += loss_fn(pred, y).item()\n",
        "          correct += (pred.argmax(1) == y).type(torch.float).sum().item()\n",
        "\n",
        "  test_loss /= num_batches\n",
        "  correct /= size\n",
        "  return  {\n",
        "      \"model_name\": model.__class__.__name__, # only works when model was created with a class\n",
        "      \"model_loss\": test_loss,\n",
        "      \"model_acc\": (100*correct)\n",
        "  }"
      ],
      "metadata": {
        "id": "LAktF7xpo9o8"
      },
      "execution_count": 48,
      "outputs": []
    },
    {
      "cell_type": "code",
      "source": [
        "model_0_results = eval_model(test_dataloader, model_0, loss_fn)\n",
        "model_0_results"
      ],
      "metadata": {
        "colab": {
          "base_uri": "https://localhost:8080/"
        },
        "id": "IG1EXYqjsnTp",
        "outputId": "88cb11dd-750b-4896-bfaf-15d10d051eef"
      },
      "execution_count": 49,
      "outputs": [
        {
          "output_type": "execute_result",
          "data": {
            "text/plain": [
              "{'model_name': 'NeuralNetwork',\n",
              " 'model_loss': 1.539938941550331,\n",
              " 'model_acc': 45.51}"
            ]
          },
          "metadata": {},
          "execution_count": 49
        }
      ]
    },
    {
      "cell_type": "markdown",
      "source": [
        "## 3.1 Changing model to a convolutional network. (TinyVGG)"
      ],
      "metadata": {
        "id": "Xzc3b3KSsuey"
      }
    },
    {
      "cell_type": "code",
      "source": [
        "class TinyVGG(nn.Module):\n",
        "  def __init__(self, input_shape: int, hidden_units: int, output_shape: int) -> None:\n",
        "    super().__init__()\n",
        "    self.block_1 = nn.Sequential(\n",
        "      nn.Conv2d(in_channels=input_shape, out_channels=hidden_units, kernel_size=3, padding=1),\n",
        "      nn.ReLU(),\n",
        "      nn.Conv2d(in_channels=hidden_units, out_channels=hidden_units, kernel_size=3, padding=1),\n",
        "      nn.ReLU(),\n",
        "      nn.MaxPool2d(kernel_size=2, stride=2)\n",
        "    )\n",
        "    self.block_2 = nn.Sequential(\n",
        "      nn.Conv2d(in_channels=hidden_units, out_channels=hidden_units, kernel_size=3, padding=1),\n",
        "      nn.ReLU(),\n",
        "      nn.Conv2d(in_channels=hidden_units, out_channels=hidden_units, kernel_size=3, padding=1),\n",
        "      nn.ReLU(),\n",
        "      nn.MaxPool2d(kernel_size=2, stride=2)\n",
        "    )\n",
        "    self.classifier = nn.Sequential(\n",
        "      nn.Flatten(),\n",
        "      nn.Linear(in_features=hidden_units*8*8, out_features=output_shape)\n",
        "    )\n",
        "\n",
        "  def forward(self, x):\n",
        "    x = self.block_1(x)\n",
        "    x = self.block_2(x)\n",
        "    x = self.classifier(x)\n",
        "    return x\n",
        "\n",
        "model_1 = TinyVGG(input_shape=3, hidden_units=10, output_shape=len(class_names)).to(device)\n",
        "model_1"
      ],
      "metadata": {
        "colab": {
          "base_uri": "https://localhost:8080/"
        },
        "id": "fjRMm3hTtBH9",
        "outputId": "323bc987-731a-4d88-cbe0-9ccd79a596f5"
      },
      "execution_count": 65,
      "outputs": [
        {
          "output_type": "execute_result",
          "data": {
            "text/plain": [
              "TinyVGG(\n",
              "  (block_1): Sequential(\n",
              "    (0): Conv2d(3, 10, kernel_size=(3, 3), stride=(1, 1), padding=(1, 1))\n",
              "    (1): ReLU()\n",
              "    (2): Conv2d(10, 10, kernel_size=(3, 3), stride=(1, 1), padding=(1, 1))\n",
              "    (3): ReLU()\n",
              "    (4): MaxPool2d(kernel_size=2, stride=2, padding=0, dilation=1, ceil_mode=False)\n",
              "  )\n",
              "  (block_2): Sequential(\n",
              "    (0): Conv2d(10, 10, kernel_size=(3, 3), stride=(1, 1), padding=(1, 1))\n",
              "    (1): ReLU()\n",
              "    (2): Conv2d(10, 10, kernel_size=(3, 3), stride=(1, 1), padding=(1, 1))\n",
              "    (3): ReLU()\n",
              "    (4): MaxPool2d(kernel_size=2, stride=2, padding=0, dilation=1, ceil_mode=False)\n",
              "  )\n",
              "  (classifier): Sequential(\n",
              "    (0): Flatten(start_dim=1, end_dim=-1)\n",
              "    (1): Linear(in_features=640, out_features=10, bias=True)\n",
              "  )\n",
              ")"
            ]
          },
          "metadata": {},
          "execution_count": 65
        }
      ]
    },
    {
      "cell_type": "code",
      "source": [
        "# Initialize optimizer.\n",
        "learning_rate = 0.1\n",
        "optimizer = torch.optim.SGD(model_1.parameters(), lr=learning_rate)"
      ],
      "metadata": {
        "id": "OUi47w38t-GA"
      },
      "execution_count": 66,
      "outputs": []
    },
    {
      "cell_type": "code",
      "source": [
        "epochs = 5\n",
        "\n",
        "for t in range(epochs):\n",
        "    print(f\"Epoch {t+1}\\n-------------------------------\")\n",
        "    train_loop(train_dataloader, model_1, loss_fn, optimizer)\n",
        "    test_loop(test_dataloader, model_1, loss_fn)\n",
        "print(\"Done!\")"
      ],
      "metadata": {
        "colab": {
          "base_uri": "https://localhost:8080/"
        },
        "id": "VH-yH4oguTfz",
        "outputId": "4b645d47-1248-4519-9969-0bf150876a6b"
      },
      "execution_count": 67,
      "outputs": [
        {
          "output_type": "stream",
          "name": "stdout",
          "text": [
            "Epoch 1\n",
            "-------------------------------\n",
            "loss: 2.300085  [   32/50000]\n",
            "loss: 2.315339  [ 3232/50000]\n",
            "loss: 2.295742  [ 6432/50000]\n",
            "loss: 2.300848  [ 9632/50000]\n",
            "loss: 2.302663  [12832/50000]\n",
            "loss: 2.253681  [16032/50000]\n",
            "loss: 2.287767  [19232/50000]\n",
            "loss: 2.263502  [22432/50000]\n",
            "loss: 1.995803  [25632/50000]\n",
            "loss: 2.108276  [28832/50000]\n",
            "loss: 2.026517  [32032/50000]\n",
            "loss: 2.065445  [35232/50000]\n",
            "loss: 1.817062  [38432/50000]\n",
            "loss: 1.576854  [41632/50000]\n",
            "loss: 1.665845  [44832/50000]\n",
            "loss: 1.516781  [48032/50000]\n",
            "Test Error: \n",
            " Accuracy: 40.9%, Avg loss: 1.683973 \n",
            "\n",
            "Epoch 2\n",
            "-------------------------------\n",
            "loss: 1.706599  [   32/50000]\n",
            "loss: 1.946531  [ 3232/50000]\n",
            "loss: 1.566679  [ 6432/50000]\n",
            "loss: 1.761569  [ 9632/50000]\n",
            "loss: 1.468399  [12832/50000]\n",
            "loss: 1.650820  [16032/50000]\n",
            "loss: 1.738976  [19232/50000]\n",
            "loss: 1.245012  [22432/50000]\n",
            "loss: 1.918975  [25632/50000]\n",
            "loss: 1.305920  [28832/50000]\n",
            "loss: 1.413493  [32032/50000]\n",
            "loss: 1.639222  [35232/50000]\n",
            "loss: 1.354127  [38432/50000]\n",
            "loss: 1.269888  [41632/50000]\n",
            "loss: 1.320803  [44832/50000]\n",
            "loss: 1.540904  [48032/50000]\n",
            "Test Error: \n",
            " Accuracy: 50.7%, Avg loss: 1.380185 \n",
            "\n",
            "Epoch 3\n",
            "-------------------------------\n",
            "loss: 1.517290  [   32/50000]\n",
            "loss: 1.293337  [ 3232/50000]\n",
            "loss: 1.681103  [ 6432/50000]\n",
            "loss: 1.301888  [ 9632/50000]\n",
            "loss: 1.160910  [12832/50000]\n",
            "loss: 1.522083  [16032/50000]\n",
            "loss: 1.424593  [19232/50000]\n",
            "loss: 1.261113  [22432/50000]\n",
            "loss: 1.525270  [25632/50000]\n",
            "loss: 1.274163  [28832/50000]\n",
            "loss: 1.669588  [32032/50000]\n",
            "loss: 1.368167  [35232/50000]\n",
            "loss: 1.517037  [38432/50000]\n",
            "loss: 1.145474  [41632/50000]\n",
            "loss: 1.106807  [44832/50000]\n",
            "loss: 1.254408  [48032/50000]\n",
            "Test Error: \n",
            " Accuracy: 54.1%, Avg loss: 1.290874 \n",
            "\n",
            "Epoch 4\n",
            "-------------------------------\n",
            "loss: 1.520007  [   32/50000]\n",
            "loss: 1.270133  [ 3232/50000]\n",
            "loss: 1.178513  [ 6432/50000]\n",
            "loss: 1.413368  [ 9632/50000]\n",
            "loss: 1.198560  [12832/50000]\n",
            "loss: 1.288033  [16032/50000]\n",
            "loss: 1.417865  [19232/50000]\n",
            "loss: 1.383273  [22432/50000]\n",
            "loss: 1.026319  [25632/50000]\n",
            "loss: 0.978294  [28832/50000]\n",
            "loss: 1.209506  [32032/50000]\n",
            "loss: 1.187414  [35232/50000]\n",
            "loss: 1.510922  [38432/50000]\n",
            "loss: 0.958310  [41632/50000]\n",
            "loss: 1.486409  [44832/50000]\n",
            "loss: 1.451611  [48032/50000]\n",
            "Test Error: \n",
            " Accuracy: 55.9%, Avg loss: 1.267818 \n",
            "\n",
            "Epoch 5\n",
            "-------------------------------\n",
            "loss: 1.229954  [   32/50000]\n",
            "loss: 1.423025  [ 3232/50000]\n",
            "loss: 1.414195  [ 6432/50000]\n",
            "loss: 0.977958  [ 9632/50000]\n",
            "loss: 1.423940  [12832/50000]\n",
            "loss: 1.174942  [16032/50000]\n",
            "loss: 1.374400  [19232/50000]\n",
            "loss: 1.075560  [22432/50000]\n",
            "loss: 1.216355  [25632/50000]\n",
            "loss: 1.388903  [28832/50000]\n",
            "loss: 1.024414  [32032/50000]\n",
            "loss: 1.417405  [35232/50000]\n",
            "loss: 1.075809  [38432/50000]\n",
            "loss: 1.617887  [41632/50000]\n",
            "loss: 0.962682  [44832/50000]\n",
            "loss: 1.450513  [48032/50000]\n",
            "Test Error: \n",
            " Accuracy: 57.6%, Avg loss: 1.214290 \n",
            "\n",
            "Done!\n"
          ]
        }
      ]
    },
    {
      "cell_type": "code",
      "source": [
        "model_1_results = eval_model(test_dataloader, model_1, loss_fn)\n",
        "model_1_results"
      ],
      "metadata": {
        "colab": {
          "base_uri": "https://localhost:8080/"
        },
        "id": "I8VlvAuPuaQP",
        "outputId": "9c885ec1-8232-426c-d949-73607867bffb"
      },
      "execution_count": 68,
      "outputs": [
        {
          "output_type": "execute_result",
          "data": {
            "text/plain": [
              "{'model_name': 'TinyVGG',\n",
              " 'model_loss': 1.2142895315401852,\n",
              " 'model_acc': 57.60999999999999}"
            ]
          },
          "metadata": {},
          "execution_count": 68
        }
      ]
    },
    {
      "cell_type": "markdown",
      "source": [
        "## 3.2 Fine tuning hyper-parameters of TinyVGG to improve model."
      ],
      "metadata": {
        "id": "dIRGF2r1uvPT"
      }
    },
    {
      "cell_type": "code",
      "source": [
        "class MyCNN(nn.Module):\n",
        "  def __init__(self, input_shape: int, hidden_units: int, output_shape: int) -> None:\n",
        "    super().__init__()\n",
        "    self.block_1 = nn.Sequential(\n",
        "      nn.Conv2d(in_channels=input_shape, out_channels=hidden_units, kernel_size=3, padding=1),\n",
        "      nn.ReLU(),\n",
        "      nn.Conv2d(in_channels=hidden_units, out_channels=hidden_units, kernel_size=3, padding=1),\n",
        "      nn.ReLU(),\n",
        "      nn.MaxPool2d(kernel_size=2, stride=2)\n",
        "    )\n",
        "    self.block_2 = nn.Sequential(\n",
        "      nn.Conv2d(in_channels=hidden_units, out_channels=hidden_units, kernel_size=3, padding=1),\n",
        "      nn.ReLU(),\n",
        "      nn.Conv2d(in_channels=hidden_units, out_channels=hidden_units, kernel_size=3, padding=1),\n",
        "      nn.ReLU(),\n",
        "      nn.MaxPool2d(kernel_size=2, stride=2)\n",
        "    )\n",
        "    self.classifier = nn.Sequential(\n",
        "      nn.Flatten(),\n",
        "      nn.Linear(in_features=hidden_units*8*8, out_features=hidden_units*8*8),\n",
        "      nn.ReLU(),\n",
        "      nn.Linear(in_features=hidden_units*8*8, out_features=output_shape)\n",
        "    )\n",
        "\n",
        "  def forward(self, x):\n",
        "    x = self.block_1(x)\n",
        "    x = self.block_2(x)\n",
        "    x = self.classifier(x)\n",
        "    return x\n",
        "\n",
        "my_model = MyCNN(input_shape=3, hidden_units=64, output_shape=len(class_names)).to(device)\n",
        "my_model"
      ],
      "metadata": {
        "colab": {
          "base_uri": "https://localhost:8080/"
        },
        "id": "WBjsMYUSxO2S",
        "outputId": "41f0944f-5579-4da8-86b1-a2b11509a344"
      },
      "execution_count": 69,
      "outputs": [
        {
          "output_type": "execute_result",
          "data": {
            "text/plain": [
              "MyCNN(\n",
              "  (block_1): Sequential(\n",
              "    (0): Conv2d(3, 64, kernel_size=(3, 3), stride=(1, 1), padding=(1, 1))\n",
              "    (1): ReLU()\n",
              "    (2): Conv2d(64, 64, kernel_size=(3, 3), stride=(1, 1), padding=(1, 1))\n",
              "    (3): ReLU()\n",
              "    (4): MaxPool2d(kernel_size=2, stride=2, padding=0, dilation=1, ceil_mode=False)\n",
              "  )\n",
              "  (block_2): Sequential(\n",
              "    (0): Conv2d(64, 64, kernel_size=(3, 3), stride=(1, 1), padding=(1, 1))\n",
              "    (1): ReLU()\n",
              "    (2): Conv2d(64, 64, kernel_size=(3, 3), stride=(1, 1), padding=(1, 1))\n",
              "    (3): ReLU()\n",
              "    (4): MaxPool2d(kernel_size=2, stride=2, padding=0, dilation=1, ceil_mode=False)\n",
              "  )\n",
              "  (classifier): Sequential(\n",
              "    (0): Flatten(start_dim=1, end_dim=-1)\n",
              "    (1): Linear(in_features=4096, out_features=4096, bias=True)\n",
              "    (2): ReLU()\n",
              "    (3): Linear(in_features=4096, out_features=10, bias=True)\n",
              "  )\n",
              ")"
            ]
          },
          "metadata": {},
          "execution_count": 69
        }
      ]
    },
    {
      "cell_type": "code",
      "source": [
        "# Initialize optimizer.\n",
        "learning_rate = 0.1\n",
        "optimizer = torch.optim.SGD(my_model.parameters(), lr=learning_rate)"
      ],
      "metadata": {
        "id": "jnwBm-YbyaWP"
      },
      "execution_count": 70,
      "outputs": []
    },
    {
      "cell_type": "code",
      "source": [
        "epochs = 5\n",
        "\n",
        "for t in range(epochs):\n",
        "    print(f\"Epoch {t+1}\\n-------------------------------\")\n",
        "    train_loop(train_dataloader, my_model, loss_fn, optimizer)\n",
        "    test_loop(test_dataloader, my_model, loss_fn)\n",
        "print(\"Done!\")"
      ],
      "metadata": {
        "colab": {
          "base_uri": "https://localhost:8080/"
        },
        "id": "YDK5FSmsx80X",
        "outputId": "d6ba5b49-45d2-4a3d-ada4-a16705617ee6"
      },
      "execution_count": 71,
      "outputs": [
        {
          "output_type": "stream",
          "name": "stdout",
          "text": [
            "Epoch 1\n",
            "-------------------------------\n",
            "loss: 2.302961  [   32/50000]\n",
            "loss: 2.211118  [ 3232/50000]\n",
            "loss: 2.260304  [ 6432/50000]\n",
            "loss: 2.369805  [ 9632/50000]\n",
            "loss: 2.073658  [12832/50000]\n",
            "loss: 1.814906  [16032/50000]\n",
            "loss: 2.015254  [19232/50000]\n",
            "loss: 1.935227  [22432/50000]\n",
            "loss: 1.711994  [25632/50000]\n",
            "loss: 1.758090  [28832/50000]\n",
            "loss: 1.367390  [32032/50000]\n",
            "loss: 1.753028  [35232/50000]\n",
            "loss: 1.502707  [38432/50000]\n",
            "loss: 1.676265  [41632/50000]\n",
            "loss: 1.854739  [44832/50000]\n",
            "loss: 1.817542  [48032/50000]\n",
            "Test Error: \n",
            " Accuracy: 45.6%, Avg loss: 1.488759 \n",
            "\n",
            "Epoch 2\n",
            "-------------------------------\n",
            "loss: 1.493003  [   32/50000]\n",
            "loss: 0.999579  [ 3232/50000]\n",
            "loss: 1.275282  [ 6432/50000]\n",
            "loss: 1.254751  [ 9632/50000]\n",
            "loss: 1.440005  [12832/50000]\n",
            "loss: 0.888380  [16032/50000]\n",
            "loss: 1.425171  [19232/50000]\n",
            "loss: 1.805051  [22432/50000]\n",
            "loss: 0.981449  [25632/50000]\n",
            "loss: 1.027290  [28832/50000]\n",
            "loss: 1.312875  [32032/50000]\n",
            "loss: 1.266499  [35232/50000]\n",
            "loss: 1.103691  [38432/50000]\n",
            "loss: 1.201814  [41632/50000]\n",
            "loss: 1.009420  [44832/50000]\n",
            "loss: 0.831216  [48032/50000]\n",
            "Test Error: \n",
            " Accuracy: 60.1%, Avg loss: 1.113003 \n",
            "\n",
            "Epoch 3\n",
            "-------------------------------\n",
            "loss: 0.708516  [   32/50000]\n",
            "loss: 0.720353  [ 3232/50000]\n",
            "loss: 0.619702  [ 6432/50000]\n",
            "loss: 0.708454  [ 9632/50000]\n",
            "loss: 0.892687  [12832/50000]\n",
            "loss: 0.779815  [16032/50000]\n",
            "loss: 0.782423  [19232/50000]\n",
            "loss: 0.757708  [22432/50000]\n",
            "loss: 0.703700  [25632/50000]\n",
            "loss: 1.090337  [28832/50000]\n",
            "loss: 1.218797  [32032/50000]\n",
            "loss: 1.075490  [35232/50000]\n",
            "loss: 0.315336  [38432/50000]\n",
            "loss: 0.789688  [41632/50000]\n",
            "loss: 0.658392  [44832/50000]\n",
            "loss: 0.805639  [48032/50000]\n",
            "Test Error: \n",
            " Accuracy: 65.2%, Avg loss: 1.053902 \n",
            "\n",
            "Epoch 4\n",
            "-------------------------------\n",
            "loss: 0.819128  [   32/50000]\n",
            "loss: 0.789647  [ 3232/50000]\n",
            "loss: 0.662640  [ 6432/50000]\n",
            "loss: 0.778455  [ 9632/50000]\n",
            "loss: 0.586464  [12832/50000]\n",
            "loss: 0.310498  [16032/50000]\n",
            "loss: 0.551700  [19232/50000]\n",
            "loss: 0.929960  [22432/50000]\n",
            "loss: 0.545949  [25632/50000]\n",
            "loss: 0.930723  [28832/50000]\n",
            "loss: 0.661209  [32032/50000]\n",
            "loss: 0.554640  [35232/50000]\n",
            "loss: 0.594647  [38432/50000]\n",
            "loss: 0.718852  [41632/50000]\n",
            "loss: 0.632169  [44832/50000]\n",
            "loss: 0.511009  [48032/50000]\n",
            "Test Error: \n",
            " Accuracy: 67.5%, Avg loss: 0.977419 \n",
            "\n",
            "Epoch 5\n",
            "-------------------------------\n",
            "loss: 0.505472  [   32/50000]\n",
            "loss: 0.326661  [ 3232/50000]\n",
            "loss: 0.369524  [ 6432/50000]\n",
            "loss: 0.175535  [ 9632/50000]\n",
            "loss: 0.202751  [12832/50000]\n",
            "loss: 0.486503  [16032/50000]\n",
            "loss: 0.696748  [19232/50000]\n",
            "loss: 0.768943  [22432/50000]\n",
            "loss: 0.507217  [25632/50000]\n",
            "loss: 0.241555  [28832/50000]\n",
            "loss: 0.206146  [32032/50000]\n",
            "loss: 0.347026  [35232/50000]\n",
            "loss: 0.466619  [38432/50000]\n",
            "loss: 0.664639  [41632/50000]\n",
            "loss: 0.384280  [44832/50000]\n",
            "loss: 0.249785  [48032/50000]\n",
            "Test Error: \n",
            " Accuracy: 65.1%, Avg loss: 1.197659 \n",
            "\n",
            "Done!\n"
          ]
        }
      ]
    },
    {
      "cell_type": "code",
      "source": [
        "my_model_results = eval_model(test_dataloader, my_model, loss_fn)\n",
        "my_model_results"
      ],
      "metadata": {
        "colab": {
          "base_uri": "https://localhost:8080/"
        },
        "id": "Jo7a4v_lyMaM",
        "outputId": "d3b81b3a-1069-4069-87b3-5dad6ee643f6"
      },
      "execution_count": 72,
      "outputs": [
        {
          "output_type": "execute_result",
          "data": {
            "text/plain": [
              "{'model_name': 'MyCNN', 'model_loss': 1.1976589221543017, 'model_acc': 65.14}"
            ]
          },
          "metadata": {},
          "execution_count": 72
        }
      ]
    },
    {
      "cell_type": "code",
      "source": [
        "## Creating a new model without adding a second linear layer to see the difference.\n",
        "class MyCNN2(nn.Module):\n",
        "  def __init__(self, input_shape: int, hidden_units: int, output_shape: int) -> None:\n",
        "    super().__init__()\n",
        "    self.block_1 = nn.Sequential(\n",
        "      nn.Conv2d(in_channels=input_shape, out_channels=hidden_units, kernel_size=3, padding=1),\n",
        "      nn.ReLU(),\n",
        "      nn.Conv2d(in_channels=hidden_units, out_channels=hidden_units, kernel_size=3, padding=1),\n",
        "      nn.ReLU(),\n",
        "      nn.MaxPool2d(kernel_size=2, stride=2)\n",
        "    )\n",
        "    self.block_2 = nn.Sequential(\n",
        "      nn.Conv2d(in_channels=hidden_units, out_channels=hidden_units, kernel_size=3, padding=1),\n",
        "      nn.ReLU(),\n",
        "      nn.Conv2d(in_channels=hidden_units, out_channels=hidden_units, kernel_size=3, padding=1),\n",
        "      nn.ReLU(),\n",
        "      nn.MaxPool2d(kernel_size=2, stride=2)\n",
        "    )\n",
        "    self.classifier = nn.Sequential(\n",
        "      nn.Flatten(),\n",
        "      nn.Linear(in_features=hidden_units*8*8, out_features=output_shape)\n",
        "    )\n",
        "\n",
        "  def forward(self, x):\n",
        "    x = self.block_1(x)\n",
        "    x = self.block_2(x)\n",
        "    x = self.classifier(x)\n",
        "    return x\n",
        "\n",
        "my_model2 = MyCNN2(input_shape=3, hidden_units=64, output_shape=len(class_names)).to(device)\n",
        "my_model2"
      ],
      "metadata": {
        "colab": {
          "base_uri": "https://localhost:8080/"
        },
        "id": "X4eZvw6oygQo",
        "outputId": "6bf93755-4181-434d-e6bf-59d3f8a9ecbe"
      },
      "execution_count": 73,
      "outputs": [
        {
          "output_type": "execute_result",
          "data": {
            "text/plain": [
              "MyCNN2(\n",
              "  (block_1): Sequential(\n",
              "    (0): Conv2d(3, 64, kernel_size=(3, 3), stride=(1, 1), padding=(1, 1))\n",
              "    (1): ReLU()\n",
              "    (2): Conv2d(64, 64, kernel_size=(3, 3), stride=(1, 1), padding=(1, 1))\n",
              "    (3): ReLU()\n",
              "    (4): MaxPool2d(kernel_size=2, stride=2, padding=0, dilation=1, ceil_mode=False)\n",
              "  )\n",
              "  (block_2): Sequential(\n",
              "    (0): Conv2d(64, 64, kernel_size=(3, 3), stride=(1, 1), padding=(1, 1))\n",
              "    (1): ReLU()\n",
              "    (2): Conv2d(64, 64, kernel_size=(3, 3), stride=(1, 1), padding=(1, 1))\n",
              "    (3): ReLU()\n",
              "    (4): MaxPool2d(kernel_size=2, stride=2, padding=0, dilation=1, ceil_mode=False)\n",
              "  )\n",
              "  (classifier): Sequential(\n",
              "    (0): Flatten(start_dim=1, end_dim=-1)\n",
              "    (1): Linear(in_features=4096, out_features=10, bias=True)\n",
              "  )\n",
              ")"
            ]
          },
          "metadata": {},
          "execution_count": 73
        }
      ]
    },
    {
      "cell_type": "code",
      "source": [
        "# Initialize optimizer\n",
        "optimizer = torch.optim.SGD(my_model2.parameters(), lr=learning_rate)"
      ],
      "metadata": {
        "id": "9bpym44mzGW_"
      },
      "execution_count": 74,
      "outputs": []
    },
    {
      "cell_type": "code",
      "source": [
        "epochs = 5\n",
        "\n",
        "for t in range(epochs):\n",
        "    print(f\"Epoch {t+1}\\n-------------------------------\")\n",
        "    train_loop(train_dataloader, my_model2, loss_fn, optimizer)\n",
        "    test_loop(test_dataloader, my_model2, loss_fn)\n",
        "print(\"Done!\")"
      ],
      "metadata": {
        "colab": {
          "base_uri": "https://localhost:8080/"
        },
        "id": "bTTC1Y_LzMVs",
        "outputId": "786178c8-eb75-4df5-b6d0-f717c447ca6c"
      },
      "execution_count": 75,
      "outputs": [
        {
          "output_type": "stream",
          "name": "stdout",
          "text": [
            "Epoch 1\n",
            "-------------------------------\n",
            "loss: 2.303205  [   32/50000]\n",
            "loss: 2.186621  [ 3232/50000]\n",
            "loss: 2.303086  [ 6432/50000]\n",
            "loss: 2.061975  [ 9632/50000]\n",
            "loss: 2.247755  [12832/50000]\n",
            "loss: 2.024281  [16032/50000]\n",
            "loss: 2.058762  [19232/50000]\n",
            "loss: 2.045382  [22432/50000]\n",
            "loss: 1.894694  [25632/50000]\n",
            "loss: 1.547410  [28832/50000]\n",
            "loss: 1.527331  [32032/50000]\n",
            "loss: 1.489804  [35232/50000]\n",
            "loss: 1.454204  [38432/50000]\n",
            "loss: 1.560458  [41632/50000]\n",
            "loss: 1.441270  [44832/50000]\n",
            "loss: 1.278957  [48032/50000]\n",
            "Test Error: \n",
            " Accuracy: 49.3%, Avg loss: 1.433624 \n",
            "\n",
            "Epoch 2\n",
            "-------------------------------\n",
            "loss: 1.394037  [   32/50000]\n",
            "loss: 1.229475  [ 3232/50000]\n",
            "loss: 1.621571  [ 6432/50000]\n",
            "loss: 1.158024  [ 9632/50000]\n",
            "loss: 1.482118  [12832/50000]\n",
            "loss: 1.254775  [16032/50000]\n",
            "loss: 0.955241  [19232/50000]\n",
            "loss: 1.091107  [22432/50000]\n",
            "loss: 0.929904  [25632/50000]\n",
            "loss: 1.032432  [28832/50000]\n",
            "loss: 0.935829  [32032/50000]\n",
            "loss: 1.237491  [35232/50000]\n",
            "loss: 0.952011  [38432/50000]\n",
            "loss: 1.288879  [41632/50000]\n",
            "loss: 0.969374  [44832/50000]\n",
            "loss: 0.919072  [48032/50000]\n",
            "Test Error: \n",
            " Accuracy: 54.8%, Avg loss: 1.342290 \n",
            "\n",
            "Epoch 3\n",
            "-------------------------------\n",
            "loss: 1.276984  [   32/50000]\n",
            "loss: 0.815671  [ 3232/50000]\n",
            "loss: 1.373806  [ 6432/50000]\n",
            "loss: 1.395767  [ 9632/50000]\n",
            "loss: 1.273009  [12832/50000]\n",
            "loss: 0.631470  [16032/50000]\n",
            "loss: 1.595326  [19232/50000]\n",
            "loss: 1.019290  [22432/50000]\n",
            "loss: 0.987682  [25632/50000]\n",
            "loss: 1.303068  [28832/50000]\n",
            "loss: 0.676124  [32032/50000]\n",
            "loss: 1.151081  [35232/50000]\n",
            "loss: 0.844058  [38432/50000]\n",
            "loss: 0.871891  [41632/50000]\n",
            "loss: 0.972175  [44832/50000]\n",
            "loss: 1.213009  [48032/50000]\n",
            "Test Error: \n",
            " Accuracy: 65.9%, Avg loss: 0.966996 \n",
            "\n",
            "Epoch 4\n",
            "-------------------------------\n",
            "loss: 0.785535  [   32/50000]\n",
            "loss: 0.679315  [ 3232/50000]\n",
            "loss: 0.773578  [ 6432/50000]\n",
            "loss: 0.600638  [ 9632/50000]\n",
            "loss: 0.873826  [12832/50000]\n",
            "loss: 0.847959  [16032/50000]\n",
            "loss: 0.714331  [19232/50000]\n",
            "loss: 1.054701  [22432/50000]\n",
            "loss: 0.815656  [25632/50000]\n",
            "loss: 0.908158  [28832/50000]\n",
            "loss: 0.562604  [32032/50000]\n",
            "loss: 0.798068  [35232/50000]\n",
            "loss: 0.773375  [38432/50000]\n",
            "loss: 0.517603  [41632/50000]\n",
            "loss: 1.110848  [44832/50000]\n",
            "loss: 1.156378  [48032/50000]\n",
            "Test Error: \n",
            " Accuracy: 67.3%, Avg loss: 0.936732 \n",
            "\n",
            "Epoch 5\n",
            "-------------------------------\n",
            "loss: 0.787798  [   32/50000]\n",
            "loss: 1.017317  [ 3232/50000]\n",
            "loss: 0.592281  [ 6432/50000]\n",
            "loss: 0.822520  [ 9632/50000]\n",
            "loss: 0.614404  [12832/50000]\n",
            "loss: 0.942668  [16032/50000]\n",
            "loss: 0.433204  [19232/50000]\n",
            "loss: 0.672111  [22432/50000]\n",
            "loss: 0.647586  [25632/50000]\n",
            "loss: 0.576215  [28832/50000]\n",
            "loss: 0.654129  [32032/50000]\n",
            "loss: 0.634861  [35232/50000]\n",
            "loss: 0.430281  [38432/50000]\n",
            "loss: 1.102478  [41632/50000]\n",
            "loss: 0.505204  [44832/50000]\n",
            "loss: 0.448323  [48032/50000]\n",
            "Test Error: \n",
            " Accuracy: 71.5%, Avg loss: 0.831192 \n",
            "\n",
            "Done!\n"
          ]
        }
      ]
    },
    {
      "cell_type": "code",
      "source": [
        "my_model2_results = eval_model(test_dataloader, my_model2, loss_fn)\n",
        "my_model2_results"
      ],
      "metadata": {
        "colab": {
          "base_uri": "https://localhost:8080/"
        },
        "id": "loi-3_IxzR6J",
        "outputId": "cd105f1f-557c-47ea-b8e5-c53802fa6cfb"
      },
      "execution_count": 76,
      "outputs": [
        {
          "output_type": "execute_result",
          "data": {
            "text/plain": [
              "{'model_name': 'MyCNN2', 'model_loss': 0.831192167231831, 'model_acc': 71.5}"
            ]
          },
          "metadata": {},
          "execution_count": 76
        }
      ]
    },
    {
      "cell_type": "markdown",
      "source": [
        "### 4.1 Compare model results."
      ],
      "metadata": {
        "id": "QLxYWyruzYo9"
      }
    },
    {
      "cell_type": "code",
      "source": [
        "import pandas as pd\n",
        "compare_results = pd.DataFrame([model_0_results, model_1_results, my_model_results, my_model2_results])\n",
        "compare_results"
      ],
      "metadata": {
        "colab": {
          "base_uri": "https://localhost:8080/",
          "height": 175
        },
        "id": "1IYHe0Jk0bzx",
        "outputId": "5798c80c-7261-4b9f-b26d-fb30bb122c4a"
      },
      "execution_count": 77,
      "outputs": [
        {
          "output_type": "execute_result",
          "data": {
            "text/plain": [
              "      model_name  model_loss  model_acc\n",
              "0  NeuralNetwork    1.539939      45.51\n",
              "1        TinyVGG    1.214290      57.61\n",
              "2          MyCNN    1.197659      65.14\n",
              "3         MyCNN2    0.831192      71.50"
            ],
            "text/html": [
              "\n",
              "  <div id=\"df-bd96e0c4-9b77-4af9-b74a-bb56f851a186\" class=\"colab-df-container\">\n",
              "    <div>\n",
              "<style scoped>\n",
              "    .dataframe tbody tr th:only-of-type {\n",
              "        vertical-align: middle;\n",
              "    }\n",
              "\n",
              "    .dataframe tbody tr th {\n",
              "        vertical-align: top;\n",
              "    }\n",
              "\n",
              "    .dataframe thead th {\n",
              "        text-align: right;\n",
              "    }\n",
              "</style>\n",
              "<table border=\"1\" class=\"dataframe\">\n",
              "  <thead>\n",
              "    <tr style=\"text-align: right;\">\n",
              "      <th></th>\n",
              "      <th>model_name</th>\n",
              "      <th>model_loss</th>\n",
              "      <th>model_acc</th>\n",
              "    </tr>\n",
              "  </thead>\n",
              "  <tbody>\n",
              "    <tr>\n",
              "      <th>0</th>\n",
              "      <td>NeuralNetwork</td>\n",
              "      <td>1.539939</td>\n",
              "      <td>45.51</td>\n",
              "    </tr>\n",
              "    <tr>\n",
              "      <th>1</th>\n",
              "      <td>TinyVGG</td>\n",
              "      <td>1.214290</td>\n",
              "      <td>57.61</td>\n",
              "    </tr>\n",
              "    <tr>\n",
              "      <th>2</th>\n",
              "      <td>MyCNN</td>\n",
              "      <td>1.197659</td>\n",
              "      <td>65.14</td>\n",
              "    </tr>\n",
              "    <tr>\n",
              "      <th>3</th>\n",
              "      <td>MyCNN2</td>\n",
              "      <td>0.831192</td>\n",
              "      <td>71.50</td>\n",
              "    </tr>\n",
              "  </tbody>\n",
              "</table>\n",
              "</div>\n",
              "    <div class=\"colab-df-buttons\">\n",
              "\n",
              "  <div class=\"colab-df-container\">\n",
              "    <button class=\"colab-df-convert\" onclick=\"convertToInteractive('df-bd96e0c4-9b77-4af9-b74a-bb56f851a186')\"\n",
              "            title=\"Convert this dataframe to an interactive table.\"\n",
              "            style=\"display:none;\">\n",
              "\n",
              "  <svg xmlns=\"http://www.w3.org/2000/svg\" height=\"24px\" viewBox=\"0 -960 960 960\">\n",
              "    <path d=\"M120-120v-720h720v720H120Zm60-500h600v-160H180v160Zm220 220h160v-160H400v160Zm0 220h160v-160H400v160ZM180-400h160v-160H180v160Zm440 0h160v-160H620v160ZM180-180h160v-160H180v160Zm440 0h160v-160H620v160Z\"/>\n",
              "  </svg>\n",
              "    </button>\n",
              "\n",
              "  <style>\n",
              "    .colab-df-container {\n",
              "      display:flex;\n",
              "      gap: 12px;\n",
              "    }\n",
              "\n",
              "    .colab-df-convert {\n",
              "      background-color: #E8F0FE;\n",
              "      border: none;\n",
              "      border-radius: 50%;\n",
              "      cursor: pointer;\n",
              "      display: none;\n",
              "      fill: #1967D2;\n",
              "      height: 32px;\n",
              "      padding: 0 0 0 0;\n",
              "      width: 32px;\n",
              "    }\n",
              "\n",
              "    .colab-df-convert:hover {\n",
              "      background-color: #E2EBFA;\n",
              "      box-shadow: 0px 1px 2px rgba(60, 64, 67, 0.3), 0px 1px 3px 1px rgba(60, 64, 67, 0.15);\n",
              "      fill: #174EA6;\n",
              "    }\n",
              "\n",
              "    .colab-df-buttons div {\n",
              "      margin-bottom: 4px;\n",
              "    }\n",
              "\n",
              "    [theme=dark] .colab-df-convert {\n",
              "      background-color: #3B4455;\n",
              "      fill: #D2E3FC;\n",
              "    }\n",
              "\n",
              "    [theme=dark] .colab-df-convert:hover {\n",
              "      background-color: #434B5C;\n",
              "      box-shadow: 0px 1px 3px 1px rgba(0, 0, 0, 0.15);\n",
              "      filter: drop-shadow(0px 1px 2px rgba(0, 0, 0, 0.3));\n",
              "      fill: #FFFFFF;\n",
              "    }\n",
              "  </style>\n",
              "\n",
              "    <script>\n",
              "      const buttonEl =\n",
              "        document.querySelector('#df-bd96e0c4-9b77-4af9-b74a-bb56f851a186 button.colab-df-convert');\n",
              "      buttonEl.style.display =\n",
              "        google.colab.kernel.accessAllowed ? 'block' : 'none';\n",
              "\n",
              "      async function convertToInteractive(key) {\n",
              "        const element = document.querySelector('#df-bd96e0c4-9b77-4af9-b74a-bb56f851a186');\n",
              "        const dataTable =\n",
              "          await google.colab.kernel.invokeFunction('convertToInteractive',\n",
              "                                                    [key], {});\n",
              "        if (!dataTable) return;\n",
              "\n",
              "        const docLinkHtml = 'Like what you see? Visit the ' +\n",
              "          '<a target=\"_blank\" href=https://colab.research.google.com/notebooks/data_table.ipynb>data table notebook</a>'\n",
              "          + ' to learn more about interactive tables.';\n",
              "        element.innerHTML = '';\n",
              "        dataTable['output_type'] = 'display_data';\n",
              "        await google.colab.output.renderOutput(dataTable, element);\n",
              "        const docLink = document.createElement('div');\n",
              "        docLink.innerHTML = docLinkHtml;\n",
              "        element.appendChild(docLink);\n",
              "      }\n",
              "    </script>\n",
              "  </div>\n",
              "\n",
              "\n",
              "<div id=\"df-da90c000-5b53-4ad9-95a3-0484418be282\">\n",
              "  <button class=\"colab-df-quickchart\" onclick=\"quickchart('df-da90c000-5b53-4ad9-95a3-0484418be282')\"\n",
              "            title=\"Suggest charts\"\n",
              "            style=\"display:none;\">\n",
              "\n",
              "<svg xmlns=\"http://www.w3.org/2000/svg\" height=\"24px\"viewBox=\"0 0 24 24\"\n",
              "     width=\"24px\">\n",
              "    <g>\n",
              "        <path d=\"M19 3H5c-1.1 0-2 .9-2 2v14c0 1.1.9 2 2 2h14c1.1 0 2-.9 2-2V5c0-1.1-.9-2-2-2zM9 17H7v-7h2v7zm4 0h-2V7h2v10zm4 0h-2v-4h2v4z\"/>\n",
              "    </g>\n",
              "</svg>\n",
              "  </button>\n",
              "\n",
              "<style>\n",
              "  .colab-df-quickchart {\n",
              "      --bg-color: #E8F0FE;\n",
              "      --fill-color: #1967D2;\n",
              "      --hover-bg-color: #E2EBFA;\n",
              "      --hover-fill-color: #174EA6;\n",
              "      --disabled-fill-color: #AAA;\n",
              "      --disabled-bg-color: #DDD;\n",
              "  }\n",
              "\n",
              "  [theme=dark] .colab-df-quickchart {\n",
              "      --bg-color: #3B4455;\n",
              "      --fill-color: #D2E3FC;\n",
              "      --hover-bg-color: #434B5C;\n",
              "      --hover-fill-color: #FFFFFF;\n",
              "      --disabled-bg-color: #3B4455;\n",
              "      --disabled-fill-color: #666;\n",
              "  }\n",
              "\n",
              "  .colab-df-quickchart {\n",
              "    background-color: var(--bg-color);\n",
              "    border: none;\n",
              "    border-radius: 50%;\n",
              "    cursor: pointer;\n",
              "    display: none;\n",
              "    fill: var(--fill-color);\n",
              "    height: 32px;\n",
              "    padding: 0;\n",
              "    width: 32px;\n",
              "  }\n",
              "\n",
              "  .colab-df-quickchart:hover {\n",
              "    background-color: var(--hover-bg-color);\n",
              "    box-shadow: 0 1px 2px rgba(60, 64, 67, 0.3), 0 1px 3px 1px rgba(60, 64, 67, 0.15);\n",
              "    fill: var(--button-hover-fill-color);\n",
              "  }\n",
              "\n",
              "  .colab-df-quickchart-complete:disabled,\n",
              "  .colab-df-quickchart-complete:disabled:hover {\n",
              "    background-color: var(--disabled-bg-color);\n",
              "    fill: var(--disabled-fill-color);\n",
              "    box-shadow: none;\n",
              "  }\n",
              "\n",
              "  .colab-df-spinner {\n",
              "    border: 2px solid var(--fill-color);\n",
              "    border-color: transparent;\n",
              "    border-bottom-color: var(--fill-color);\n",
              "    animation:\n",
              "      spin 1s steps(1) infinite;\n",
              "  }\n",
              "\n",
              "  @keyframes spin {\n",
              "    0% {\n",
              "      border-color: transparent;\n",
              "      border-bottom-color: var(--fill-color);\n",
              "      border-left-color: var(--fill-color);\n",
              "    }\n",
              "    20% {\n",
              "      border-color: transparent;\n",
              "      border-left-color: var(--fill-color);\n",
              "      border-top-color: var(--fill-color);\n",
              "    }\n",
              "    30% {\n",
              "      border-color: transparent;\n",
              "      border-left-color: var(--fill-color);\n",
              "      border-top-color: var(--fill-color);\n",
              "      border-right-color: var(--fill-color);\n",
              "    }\n",
              "    40% {\n",
              "      border-color: transparent;\n",
              "      border-right-color: var(--fill-color);\n",
              "      border-top-color: var(--fill-color);\n",
              "    }\n",
              "    60% {\n",
              "      border-color: transparent;\n",
              "      border-right-color: var(--fill-color);\n",
              "    }\n",
              "    80% {\n",
              "      border-color: transparent;\n",
              "      border-right-color: var(--fill-color);\n",
              "      border-bottom-color: var(--fill-color);\n",
              "    }\n",
              "    90% {\n",
              "      border-color: transparent;\n",
              "      border-bottom-color: var(--fill-color);\n",
              "    }\n",
              "  }\n",
              "</style>\n",
              "\n",
              "  <script>\n",
              "    async function quickchart(key) {\n",
              "      const quickchartButtonEl =\n",
              "        document.querySelector('#' + key + ' button');\n",
              "      quickchartButtonEl.disabled = true;  // To prevent multiple clicks.\n",
              "      quickchartButtonEl.classList.add('colab-df-spinner');\n",
              "      try {\n",
              "        const charts = await google.colab.kernel.invokeFunction(\n",
              "            'suggestCharts', [key], {});\n",
              "      } catch (error) {\n",
              "        console.error('Error during call to suggestCharts:', error);\n",
              "      }\n",
              "      quickchartButtonEl.classList.remove('colab-df-spinner');\n",
              "      quickchartButtonEl.classList.add('colab-df-quickchart-complete');\n",
              "    }\n",
              "    (() => {\n",
              "      let quickchartButtonEl =\n",
              "        document.querySelector('#df-da90c000-5b53-4ad9-95a3-0484418be282 button');\n",
              "      quickchartButtonEl.style.display =\n",
              "        google.colab.kernel.accessAllowed ? 'block' : 'none';\n",
              "    })();\n",
              "  </script>\n",
              "</div>\n",
              "\n",
              "  <div id=\"id_6294878f-9945-4107-a2ac-7cb555182bf0\">\n",
              "    <style>\n",
              "      .colab-df-generate {\n",
              "        background-color: #E8F0FE;\n",
              "        border: none;\n",
              "        border-radius: 50%;\n",
              "        cursor: pointer;\n",
              "        display: none;\n",
              "        fill: #1967D2;\n",
              "        height: 32px;\n",
              "        padding: 0 0 0 0;\n",
              "        width: 32px;\n",
              "      }\n",
              "\n",
              "      .colab-df-generate:hover {\n",
              "        background-color: #E2EBFA;\n",
              "        box-shadow: 0px 1px 2px rgba(60, 64, 67, 0.3), 0px 1px 3px 1px rgba(60, 64, 67, 0.15);\n",
              "        fill: #174EA6;\n",
              "      }\n",
              "\n",
              "      [theme=dark] .colab-df-generate {\n",
              "        background-color: #3B4455;\n",
              "        fill: #D2E3FC;\n",
              "      }\n",
              "\n",
              "      [theme=dark] .colab-df-generate:hover {\n",
              "        background-color: #434B5C;\n",
              "        box-shadow: 0px 1px 3px 1px rgba(0, 0, 0, 0.15);\n",
              "        filter: drop-shadow(0px 1px 2px rgba(0, 0, 0, 0.3));\n",
              "        fill: #FFFFFF;\n",
              "      }\n",
              "    </style>\n",
              "    <button class=\"colab-df-generate\" onclick=\"generateWithVariable('compare_results')\"\n",
              "            title=\"Generate code using this dataframe.\"\n",
              "            style=\"display:none;\">\n",
              "\n",
              "  <svg xmlns=\"http://www.w3.org/2000/svg\" height=\"24px\"viewBox=\"0 0 24 24\"\n",
              "       width=\"24px\">\n",
              "    <path d=\"M7,19H8.4L18.45,9,17,7.55,7,17.6ZM5,21V16.75L18.45,3.32a2,2,0,0,1,2.83,0l1.4,1.43a1.91,1.91,0,0,1,.58,1.4,1.91,1.91,0,0,1-.58,1.4L9.25,21ZM18.45,9,17,7.55Zm-12,3A5.31,5.31,0,0,0,4.9,8.1,5.31,5.31,0,0,0,1,6.5,5.31,5.31,0,0,0,4.9,4.9,5.31,5.31,0,0,0,6.5,1,5.31,5.31,0,0,0,8.1,4.9,5.31,5.31,0,0,0,12,6.5,5.46,5.46,0,0,0,6.5,12Z\"/>\n",
              "  </svg>\n",
              "    </button>\n",
              "    <script>\n",
              "      (() => {\n",
              "      const buttonEl =\n",
              "        document.querySelector('#id_6294878f-9945-4107-a2ac-7cb555182bf0 button.colab-df-generate');\n",
              "      buttonEl.style.display =\n",
              "        google.colab.kernel.accessAllowed ? 'block' : 'none';\n",
              "\n",
              "      buttonEl.onclick = () => {\n",
              "        google.colab.notebook.generateWithVariable('compare_results');\n",
              "      }\n",
              "      })();\n",
              "    </script>\n",
              "  </div>\n",
              "\n",
              "    </div>\n",
              "  </div>\n"
            ],
            "application/vnd.google.colaboratory.intrinsic+json": {
              "type": "dataframe",
              "variable_name": "compare_results",
              "summary": "{\n  \"name\": \"compare_results\",\n  \"rows\": 4,\n  \"fields\": [\n    {\n      \"column\": \"model_name\",\n      \"properties\": {\n        \"dtype\": \"string\",\n        \"num_unique_values\": 4,\n        \"samples\": [\n          \"TinyVGG\",\n          \"MyCNN2\",\n          \"NeuralNetwork\"\n        ],\n        \"semantic_type\": \"\",\n        \"description\": \"\"\n      }\n    },\n    {\n      \"column\": \"model_loss\",\n      \"properties\": {\n        \"dtype\": \"number\",\n        \"std\": 0.28966405688264424,\n        \"min\": 0.831192167231831,\n        \"max\": 1.539938941550331,\n        \"num_unique_values\": 4,\n        \"samples\": [\n          1.2142895315401852,\n          0.831192167231831,\n          1.539938941550331\n        ],\n        \"semantic_type\": \"\",\n        \"description\": \"\"\n      }\n    },\n    {\n      \"column\": \"model_acc\",\n      \"properties\": {\n        \"dtype\": \"number\",\n        \"std\": 11.170308858755877,\n        \"min\": 45.51,\n        \"max\": 71.5,\n        \"num_unique_values\": 4,\n        \"samples\": [\n          57.60999999999999,\n          71.5,\n          45.51\n        ],\n        \"semantic_type\": \"\",\n        \"description\": \"\"\n      }\n    }\n  ]\n}"
            }
          },
          "metadata": {},
          "execution_count": 77
        }
      ]
    },
    {
      "cell_type": "code",
      "source": [
        "# Visualize our model results\n",
        "compare_results.set_index(\"model_name\")[\"model_acc\"].plot(kind=\"barh\")\n",
        "plt.xlabel(\"accuracy (%)\")\n",
        "plt.ylabel(\"model\")\n",
        "plt.xlim([0,110])\n",
        "plt.grid(True, axis = 'x', lw = 0.3)"
      ],
      "metadata": {
        "colab": {
          "base_uri": "https://localhost:8080/",
          "height": 449
        },
        "id": "aUgWd7GG0jqu",
        "outputId": "e42b772d-d09a-4953-f810-8449e008d59a"
      },
      "execution_count": 90,
      "outputs": [
        {
          "output_type": "display_data",
          "data": {
            "text/plain": [
              "<Figure size 640x480 with 1 Axes>"
            ],
            "image/png": "[encoded data removed]"
          },
          "metadata": {}
        }
      ]
    },
    {
      "cell_type": "markdown",
      "source": [
        "### 5.1 Conclusion\n",
        "\n",
        "Learned how to train, test and evaluate my own CNN model and aswell as fiddling with parameters and to create my own versions. Interesting find is that for convolutional neural networks of this size a double linear layer at the end seems to be over-fitting the data. My hypothesis is that our max pool is too intense leaving too little of data to extract patterns, hence the over-fitting, therefore to prove or disprove the hypothesis I would see how it would perform with less pooling layers, or some sort of other structures that extracts features in a greater dimension than 8x8 or maybe it would work on higher definition images overall and double linear layers just don't work on such small images."
      ],
      "metadata": {
        "id": "PVF2PT0Y0hmQ"
      }
    },
    {
      "cell_type": "code",
      "source": [],
      "metadata": {
        "id": "YxjPCJw33yrx"
      },
      "execution_count": null,
      "outputs": []
    }
  ]
}